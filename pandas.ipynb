{
  "cells": [
    {
      "cell_type": "markdown",
      "metadata": {
        "id": "view-in-github",
        "colab_type": "text"
      },
      "source": [
        "<a href=\"https://colab.research.google.com/github/raphaellimalm/PythonGoogleColab/blob/main/pandas.ipynb\" target=\"_parent\"><img src=\"https://colab.research.google.com/assets/colab-badge.svg\" alt=\"Open In Colab\"/></a>"
      ]
    },
    {
      "cell_type": "code",
      "source": [
        "import plotly.express as px\n"
      ],
      "metadata": {
        "id": "rnGr42E66D3N"
      },
      "execution_count": null,
      "outputs": []
    },
    {
      "cell_type": "code",
      "source": [
        "import pandas as pd\n",
        "\n",
        "url = \"https://raw.githubusercontent.com/plotly/datasets/master/gapminderDataFiveYear.csv\"\n",
        "dataset = pd.read_csv(url)\n",
        "\n",
        "years = [\"1957\", \"1962\", \"1967\", \"1972\", \"1977\", \"1982\", \"1987\", \"1992\", \"1997\", \"2002\",\n",
        "         \"2007\"]\n",
        "\n",
        "# make list of continents\n",
        "continents = []\n",
        "for continent in dataset[\"continent\"]:\n",
        "    if continent not in continents:\n",
        "        continents.append(continent)\n",
        "# make figure\n",
        "fig_dict = {\n",
        "    \"data\": [],\n",
        "    \"layout\": {},\n",
        "    \"frames\": []\n",
        "}\n",
        "\n",
        "# fill in most of layout\n",
        "fig_dict[\"layout\"][\"xaxis\"] = {\"range\": [30, 85], \"title\": \"Life Expectancy\"}\n",
        "fig_dict[\"layout\"][\"yaxis\"] = {\"title\": \"GDP per Capita\", \"type\": \"log\"}\n",
        "fig_dict[\"layout\"][\"hovermode\"] = \"closest\"\n",
        "fig_dict[\"layout\"][\"updatemenus\"] = [\n",
        "    {\n",
        "        \"buttons\": [\n",
        "            {\n",
        "                \"args\": [None, {\"frame\": {\"duration\": 300, \"redraw\": False},\n",
        "                                \"fromcurrent\": True, \"transition\": {\"duration\": 300,\n",
        "                                                                    \"easing\": \"quadratic-in-out\"}}],\n",
        "                \"label\": \"Play\",\n",
        "                \"method\": \"animate\"\n",
        "            },\n",
        "            {\n",
        "                \"args\": [[None], {\"frame\": {\"duration\": 0, \"redraw\": False},\n",
        "                                  \"mode\": \"immediate\",\n",
        "                                  \"transition\": {\"duration\": 0}}],\n",
        "                \"label\": \"Pause\",\n",
        "                \"method\": \"animate\"\n",
        "            }\n",
        "        ],\n",
        "        \"direction\": \"left\",\n",
        "        \"pad\": {\"r\": 10, \"t\": 87},\n",
        "        \"showactive\": False,\n",
        "        \"type\": \"buttons\",\n",
        "        \"x\": 0.1,\n",
        "        \"xanchor\": \"right\",\n",
        "        \"y\": 0,\n",
        "        \"yanchor\": \"top\"\n",
        "    }\n",
        "]\n",
        "\n",
        "sliders_dict = {\n",
        "    \"active\": 0,\n",
        "    \"yanchor\": \"top\",\n",
        "    \"xanchor\": \"left\",\n",
        "    \"currentvalue\": {\n",
        "        \"font\": {\"size\": 20},\n",
        "        \"prefix\": \"Year:\",\n",
        "        \"visible\": True,\n",
        "        \"xanchor\": \"right\"\n",
        "    },\n",
        "    \"transition\": {\"duration\": 300, \"easing\": \"cubic-in-out\"},\n",
        "    \"pad\": {\"b\": 10, \"t\": 50},\n",
        "    \"len\": 0.9,\n",
        "    \"x\": 0.1,\n",
        "    \"y\": 0,\n",
        "    \"steps\": []\n",
        "}\n",
        "\n",
        "# make data\n",
        "year = 1952\n",
        "for continent in continents:\n",
        "    dataset_by_year = dataset[dataset[\"year\"] == year]\n",
        "    dataset_by_year_and_cont = dataset_by_year[\n",
        "        dataset_by_year[\"continent\"] == continent]\n",
        "\n",
        "    data_dict = {\n",
        "        \"x\": list(dataset_by_year_and_cont[\"lifeExp\"]),\n",
        "        \"y\": list(dataset_by_year_and_cont[\"gdpPercap\"]),\n",
        "        \"mode\": \"markers\",\n",
        "        \"text\": list(dataset_by_year_and_cont[\"country\"]),\n",
        "        \"marker\": {\n",
        "            \"sizemode\": \"area\",\n",
        "            \"sizeref\": 200000,\n",
        "            \"size\": list(dataset_by_year_and_cont[\"pop\"])\n",
        "        },\n",
        "        \"name\": continent\n",
        "    }\n",
        "    fig_dict[\"data\"].append(data_dict)\n",
        "\n",
        "# make frames\n",
        "for year in years:\n",
        "    frame = {\"data\": [], \"name\": str(year)}\n",
        "    for continent in continents:\n",
        "        dataset_by_year = dataset[dataset[\"year\"] == int(year)]\n",
        "        dataset_by_year_and_cont = dataset_by_year[\n",
        "            dataset_by_year[\"continent\"] == continent]\n",
        "\n",
        "        data_dict = {\n",
        "            \"x\": list(dataset_by_year_and_cont[\"lifeExp\"]),\n",
        "            \"y\": list(dataset_by_year_and_cont[\"gdpPercap\"]),\n",
        "            \"mode\": \"markers\",\n",
        "            \"text\": list(dataset_by_year_and_cont[\"country\"]),\n",
        "            \"marker\": {\n",
        "                \"sizemode\": \"area\",\n",
        "                \"sizeref\": 200000,\n",
        "                \"size\": list(dataset_by_year_and_cont[\"pop\"])\n",
        "            },\n",
        "            \"name\": continent\n",
        "        }\n",
        "        frame[\"data\"].append(data_dict)\n",
        "\n",
        "    fig_dict[\"frames\"].append(frame)\n",
        "    slider_step = {\"args\": [\n",
        "        [year],\n",
        "        {\"frame\": {\"duration\": 300, \"redraw\": False},\n",
        "         \"mode\": \"immediate\",\n",
        "         \"transition\": {\"duration\": 300}}\n",
        "    ],\n",
        "        \"label\": year,\n",
        "        \"method\": \"animate\"}\n",
        "    sliders_dict[\"steps\"].append(slider_step)\n",
        "\n",
        "\n",
        "fig_dict[\"layout\"][\"sliders\"] = [sliders_dict]\n",
        "\n",
        "fig = go.Figure(fig_dict)\n",
        "\n",
        "fig.show()"
      ],
      "metadata": {
        "id": "5mWkF8ZDBiJK"
      },
      "execution_count": null,
      "outputs": []
    },
    {
      "cell_type": "code",
      "source": [
        "import pandas as pd\n",
        "\n",
        "url = \"https://raw.githubusercontent.com/plotly/datasets/master/gapminderDataFiveYear.csv\"\n",
        "dataset = pd.read_csv(url)\n",
        "\n",
        "years = [\"1952\", \"1962\", \"1967\", \"1972\", \"1977\", \"1982\", \"1987\", \"1992\", \"1997\", \"2002\",\n",
        "         \"2007\"]\n",
        "\n",
        "# make list of continents\n",
        "continents = []\n",
        "for continent in dataset[\"continent\"]:\n",
        "    if continent not in continents:\n",
        "        continents.append(continent)\n",
        "# make figure\n",
        "fig_dict = {\n",
        "    \"data\": [],\n",
        "    \"layout\": {},\n",
        "    \"frames\": []\n",
        "}\n",
        "\n",
        "# fill in most of layout\n",
        "fig_dict[\"layout\"][\"xaxis\"] = {\"range\": [30, 85], \"title\": \"Life Expectancy\"}\n",
        "fig_dict[\"layout\"][\"yaxis\"] = {\"title\": \"GDP per Capita\", \"type\": \"log\"}\n",
        "fig_dict[\"layout\"][\"hovermode\"] = \"closest\"\n",
        "fig_dict[\"layout\"][\"updatemenus\"] = [\n",
        "    {\n",
        "        \"buttons\": [\n",
        "            {\n",
        "                \"args\": [None, {\"frame\": {\"duration\": 500, \"redraw\": False},\n",
        "                                \"fromcurrent\": True, \"transition\": {\"duration\": 300,\n",
        "                                                                    \"easing\": \"quadratic-in-out\"}}],\n",
        "                \"label\": \"Play\",\n",
        "                \"method\": \"animate\"\n",
        "            },\n",
        "            {\n",
        "                \"args\": [[None], {\"frame\": {\"duration\": 0, \"redraw\": False},\n",
        "                                  \"mode\": \"immediate\",\n",
        "                                  \"transition\": {\"duration\": 0}}],\n",
        "                \"label\": \"Pause\",\n",
        "                \"method\": \"animate\"\n",
        "            }\n",
        "        ],\n",
        "        \"direction\": \"left\",\n",
        "        \"pad\": {\"r\": 10, \"t\": 87},\n",
        "        \"showactive\": False,\n",
        "        \"type\": \"buttons\",\n",
        "        \"x\": 0.1,\n",
        "        \"xanchor\": \"right\",\n",
        "        \"y\": 0,\n",
        "        \"yanchor\": \"top\"\n",
        "    }\n",
        "]\n",
        "\n",
        "sliders_dict = {\n",
        "    \"active\": 0,\n",
        "    \"yanchor\": \"top\",\n",
        "    \"xanchor\": \"left\",\n",
        "    \"currentvalue\": {\n",
        "        \"font\": {\"size\": 20},\n",
        "        \"prefix\": \"Year:\",\n",
        "        \"visible\": True,\n",
        "        \"xanchor\": \"right\"\n",
        "    },\n",
        "    \"transition\": {\"duration\": 300, \"easing\": \"cubic-in-out\"},\n",
        "    \"pad\": {\"b\": 10, \"t\": 50},\n",
        "    \"len\": 0.9,\n",
        "    \"x\": 0.1,\n",
        "    \"y\": 0,\n",
        "    \"steps\": []\n",
        "}\n",
        "\n",
        "# make data\n",
        "year = 1952\n",
        "for continent in continents:\n",
        "    dataset_by_year = dataset[dataset[\"year\"] == year]\n",
        "    dataset_by_year_and_cont = dataset_by_year[\n",
        "        dataset_by_year[\"continent\"] == continent]\n",
        "\n",
        "    data_dict = {\n",
        "        \"x\": list(dataset_by_year_and_cont[\"lifeExp\"]),\n",
        "        \"y\": list(dataset_by_year_and_cont[\"gdpPercap\"]),\n",
        "        \"mode\": \"markers\",\n",
        "        \"text\": list(dataset_by_year_and_cont[\"country\"]),\n",
        "        \"marker\": {\n",
        "            \"sizemode\": \"area\",\n",
        "            \"sizeref\": 200000,\n",
        "            \"size\": list(dataset_by_year_and_cont[\"pop\"])\n",
        "        },\n",
        "        \"name\": continent\n",
        "    }\n",
        "    fig_dict[\"data\"].append(data_dict)\n",
        "\n",
        "# make frames\n",
        "for year in years:\n",
        "    frame = {\"data\": [], \"name\": str(year)}\n",
        "    for continent in continents:\n",
        "        dataset_by_year = dataset[dataset[\"year\"] == int(year)]\n",
        "        dataset_by_year_and_cont = dataset_by_year[\n",
        "            dataset_by_year[\"continent\"] == continent]\n",
        "\n",
        "        data_dict = {\n",
        "            \"x\": list(dataset_by_year_and_cont[\"lifeExp\"]),\n",
        "            \"y\": list(dataset_by_year_and_cont[\"gdpPercap\"]),\n",
        "            \"mode\": \"markers\",\n",
        "            \"text\": list(dataset_by_year_and_cont[\"country\"]),\n",
        "            \"marker\": {\n",
        "                \"sizemode\": \"area\",\n",
        "                \"sizeref\": 200000,\n",
        "                \"size\": list(dataset_by_year_and_cont[\"pop\"])\n",
        "            },\n",
        "            \"name\": continent\n",
        "        }\n",
        "        frame[\"data\"].append(data_dict)\n",
        "\n",
        "    fig_dict[\"frames\"].append(frame)\n",
        "    slider_step = {\"args\": [\n",
        "        [year],\n",
        "        {\"frame\": {\"duration\": 700, \"redraw\": False},\n",
        "         \"mode\": \"immediate\",\n",
        "         \"transition\": {\"duration\": 100}}\n",
        "    ],\n",
        "        \"label\": year,\n",
        "        \"method\": \"animate\"}\n",
        "    sliders_dict[\"steps\"].append(slider_step)\n",
        "\n",
        "\n",
        "fig_dict[\"layout\"][\"sliders\"] = [sliders_dict]\n",
        "\n",
        "fig = go.Figure(fig_dict)\n",
        "\n",
        "fig.show()"
      ],
      "metadata": {
        "id": "eEZnWuNQAwHT"
      },
      "execution_count": null,
      "outputs": []
    },
    {
      "cell_type": "code",
      "source": [
        "import plotly.graph_objects as go"
      ],
      "metadata": {
        "id": "WTogXdcTAaZN"
      },
      "execution_count": null,
      "outputs": []
    },
    {
      "cell_type": "code",
      "source": [
        "\n",
        "fig = go.Figure(\n",
        "    data=[go.Scatter(x=[0, 1], y=[0, 1])],\n",
        "    layout=go.Layout(\n",
        "        xaxis=dict(range=[0, 5], autorange=False),\n",
        "        yaxis=dict(range=[0, 5], autorange=False),\n",
        "        title=dict(text=\"Start Title\"),\n",
        "        updatemenus=[dict(\n",
        "            type=\"buttons\",\n",
        "            buttons=[dict(label=\"Play\",\n",
        "                          method=\"animate\",\n",
        "                          args=[None])])]\n",
        "    ),\n",
        "    frames=[go.Frame(data=[go.Scatter(x=[1, 2], y=[1, 2])]),\n",
        "            go.Frame(data=[go.Scatter(x=[1, 4], y=[1, 4])]),\n",
        "            go.Frame(data=[go.Scatter(x=[3, 4], y=[3, 4])],\n",
        "                     layout=go.Layout(title_text=\"End Title\"))]\n",
        ")\n",
        "\n",
        "fig.show()"
      ],
      "metadata": {
        "id": "aalcBHLLASiE"
      },
      "execution_count": null,
      "outputs": []
    },
    {
      "cell_type": "code",
      "source": [
        "df = px.data.gapminder()\n",
        "\n",
        "fig = px.bar(df, x=\"continent\", y=\"pop\", color=\"continent\",\n",
        "  animation_frame=\"year\", animation_group=\"country\", range_y=[0,4000000000])\n",
        "fig.show()"
      ],
      "metadata": {
        "id": "6UCTmYRUADO7"
      },
      "execution_count": null,
      "outputs": []
    },
    {
      "cell_type": "code",
      "source": [
        "data = px.data.gapminder()\n",
        "fig = px.scatter(\n",
        "    data,\n",
        "    x=\"gdpPercap\",\n",
        "    y=\"lifeExp\",\n",
        "    animation_frame=\"year\",\n",
        "    animation_group=\"country\",\n",
        "    size=\"pop\",\n",
        "    color=\"continent\",\n",
        "    hover_name=\"country\",\n",
        "    log_x = True,\n",
        "    size_max=55,\n",
        "    range_x=[100,100000],\n",
        "    range_y=[25,90],\n",
        "  title=\"Expectativa de vida vs PIB per capita\"\n",
        "    )\n",
        "\n",
        "fig.show()"
      ],
      "metadata": {
        "id": "u6huGwJJ9Z87"
      },
      "execution_count": null,
      "outputs": []
    },
    {
      "cell_type": "code",
      "source": [
        "data = px.data.gapminder()\n",
        "fig = px.scatter(\n",
        "    data,\n",
        "    x=\"gdpPercap\",\n",
        "    y=\"lifeExp\",\n",
        "    animation_frame=\"year\",\n",
        "    animation_group=\"country\",\n",
        "    size=\"pop\",\n",
        "    color=\"continent\",\n",
        "    hover_name=\"country\",\n",
        "    log_x = True,\n",
        "    size_max=55,\n",
        "    range_x=[100,100000],\n",
        "    range_y=[25,90],\n",
        "  title=\"Life Expectancy vs GDP per Capita\"\n",
        "    )\n",
        "\n",
        "fig.show()"
      ],
      "metadata": {
        "id": "3DsetFtB6xNv"
      },
      "execution_count": null,
      "outputs": []
    },
    {
      "cell_type": "code",
      "source": [],
      "metadata": {
        "id": "AbSpnNX_6vj0"
      },
      "execution_count": null,
      "outputs": []
    },
    {
      "cell_type": "markdown",
      "source": [
        "Python: 4 Áreas Chave para se Sobressair.\n",
        "\n",
        "    #Python\n",
        "\n",
        "Python não é apenas uma linguagem de programação; é uma porta de entrada para carreiras de sucesso em diversas áreas tecnológicas. Com uma sintaxe simples e uma ampla gama de bibliotecas poderosas, Python se tornou uma escolha popular para desenvolvedores e cientistas de dados. Neste artigo, exploraremos quatro maneiras de se destacar utilizando Python: análise de dados, extração de dados, Big Data e Machine Learning. Ao dominar essas áreas, você estará preparado para enfrentar os desafios do mercado de trabalho e se destacar em um mundo cada vez mais orientado por dados.\n",
        "\n",
        "    Conhecimentos técnicos: Conhecimento Básico de Python, Bibliotecas Populares, conhecimento de Ciência de Dados.\n",
        "    Recursos necessários: Ambiente de desenvolvimento, como Jupyter, notebook, anaconda ou editor de texto (VScode), Documentação e tutoriais\n",
        "\n",
        "1.Python para Análise de dados\n",
        "\n",
        "Primeiro vamos entender o que é a Análise de dados: é o processo de inspecionar, limpar, transformar e modelar dados com o objetivo de descobrir informações úteis, chegar a conclusões e apoiar a tomada de decisões. Envolve a utilização de várias técnicas e ferramentas para extrair insights significativos a partir dos dados. Neste tópico vamos explorar como usar o Python, e ver, como ele pode ser usado para transformar dados brutos em insights valiosos.\n",
        "\n",
        "Vamos começar trazendo sua base de dados para o python, ver o panorama geral sobre a sua base de dados, fazer a análise top/down e depois entrar nos detalhes para entender.\n",
        "\n",
        "1.1 Instalar as bibliotecas necessárias.\n",
        "\n",
        "No prompt de comando ( executar como Adm) , digite:"
      ],
      "metadata": {
        "id": "1b-8TfDrtwbu"
      }
    },
    {
      "cell_type": "code",
      "source": [
        "pip install pandas numpy matplotlib"
      ],
      "metadata": {
        "id": "28lcWI8vtlFZ"
      },
      "execution_count": null,
      "outputs": []
    },
    {
      "cell_type": "code",
      "source": [
        "import pandas as pd\n",
        "import numpy as np\n",
        "import matplotlib.pyplot as plt"
      ],
      "metadata": {
        "id": "t36drF9it4n-"
      },
      "execution_count": null,
      "outputs": []
    },
    {
      "cell_type": "code",
      "source": [
        "df = pd.read_excel('/OrçamentoMensal.xlsx')"
      ],
      "metadata": {
        "id": "l5PaKqtnt9rh"
      },
      "execution_count": null,
      "outputs": []
    },
    {
      "cell_type": "code",
      "source": [
        "pip install openpyxl"
      ],
      "metadata": {
        "id": "_C2K83orvkEA"
      },
      "execution_count": null,
      "outputs": []
    },
    {
      "cell_type": "markdown",
      "source": [],
      "metadata": {
        "id": "D5rBUUDcv3nO"
      }
    },
    {
      "cell_type": "code",
      "source": [
        "import sqlite3\n",
        "# Conectar ao banco de dados\n",
        "conn = sqlite3.connect('caminho/para/seu/banco_de_dados.db')\n",
        "# Criar um cursor\n",
        "cursor = conn.cursor()\n",
        "# Executar uma consulta SQL\n",
        "cursor.execute('SELECT * FROM sua_tabela')\n",
        "# Obter todos os resultados\n",
        "dados = cursor.fetchall()\n",
        "# Fechar a conexão\n",
        "conn.close()\n",
        "# Exibir os dados\n",
        "for linha in dados:\n",
        " print(linha)"
      ],
      "metadata": {
        "id": "ldnQVRHNt9lX"
      },
      "execution_count": null,
      "outputs": []
    },
    {
      "cell_type": "code",
      "source": [
        "import pandas as pd\n",
        "import numpy as np\n",
        "import matplotlib.pyplot as plt"
      ],
      "metadata": {
        "id": "QEfECVhstsU2"
      },
      "execution_count": null,
      "outputs": []
    },
    {
      "cell_type": "code",
      "source": [
        "import os\n",
        "import zipfile\n",
        "import random\n",
        "import tensorflow as tf\n",
        "from tensorflow.keras.optimizers import RMSprop\n",
        "from tensorflow.keras.preprocessing.image import ImageDataGenerator\n",
        "from shutil import copyfile"
      ],
      "metadata": {
        "id": "_GA3bCuLAo_z"
      },
      "execution_count": null,
      "outputs": []
    },
    {
      "cell_type": "markdown",
      "metadata": {
        "id": "mfIMtw6BaiO1"
      },
      "source": [
        "## Pandas DataFrame: Create from lists of values"
      ]
    },
    {
      "cell_type": "code",
      "execution_count": null,
      "metadata": {
        "id": "qQ5S72eoaiuA"
      },
      "outputs": [],
      "source": [
        "import pandas as pd\n",
        "\n",
        "last_names = ['Connor', 'Connor', 'Reese']\n",
        "first_names = ['Sarah', 'John', 'Kyle']\n",
        "df = pd.DataFrame({\n",
        "  'first_name': first_names,\n",
        "  'last_name': last_names,\n",
        "})\n",
        "df"
      ]
    },
    {
      "cell_type": "markdown",
      "metadata": {
        "id": "da6CMhXZas7m"
      },
      "source": [
        "## Pandas DataFrame: Rename multiple Columns"
      ]
    },
    {
      "cell_type": "code",
      "execution_count": null,
      "metadata": {
        "id": "PidN8TlvatXt"
      },
      "outputs": [],
      "source": [
        "import pandas as pd\n",
        "df = pd.DataFrame({\n",
        "    'Year': [2016, 2015, 2014, 2013, 2012],\n",
        "    'Top Animal': ['Giant panda', 'Chicken', 'Pig', 'Turkey', 'Dog']\n",
        "})\n",
        "\n",
        "df.rename(columns={\n",
        "    'Year': 'Calendar Year',\n",
        "    'Top Animal': 'Favorite Animal',\n",
        "}, inplace=True)\n",
        "df"
      ]
    },
    {
      "cell_type": "code",
      "source": [
        "from google.colab import drive\n",
        "drive.mount('/content/drive')"
      ],
      "metadata": {
        "id": "uM5YEPNJ2nD6"
      },
      "execution_count": null,
      "outputs": []
    },
    {
      "source": [
        "import pandas as pd\n",
        "# Carregar o arquivo CSV\n",
        "df = pd.read_xlsx('/OrçamentoMensal.xlsx')\n",
        "# Exibir as primeiras linhas do DataFrame\n",
        "print(df.head())"
      ],
      "cell_type": "code",
      "execution_count": null,
      "outputs": [],
      "metadata": {
        "id": "XcnJiPhbO5ae"
      }
    },
    {
      "cell_type": "markdown",
      "metadata": {
        "id": "-3GmnRDV--F_"
      },
      "source": [
        "## Pandas DataFrame: Query by regexp (regular expression)"
      ]
    },
    {
      "cell_type": "code",
      "execution_count": null,
      "metadata": {
        "id": "y2_DTKp-9v2A"
      },
      "outputs": [],
      "source": [
        "import pandas as pd\n",
        "df = pd.DataFrame({\n",
        "  'first_name': ['Sarah', 'John', 'Kyle', 'Joe'],\n",
        "  'last_name': ['Connor', 'Connor', 'Reese', 'Bonnot'],\n",
        "})\n",
        "\n",
        "df[df.last_name.str.match('.*onno.*')]"
      ]
    },
    {
      "cell_type": "markdown",
      "metadata": {
        "id": "VR_tSBKZPCHe"
      },
      "source": [
        "## Pandas DataFrame: Query by variable value"
      ]
    },
    {
      "cell_type": "markdown",
      "metadata": {
        "id": "emvt3RwC4U2L"
      },
      "source": [
        "Evaluate a variable as the value to find."
      ]
    },
    {
      "cell_type": "code",
      "execution_count": null,
      "metadata": {
        "id": "5chfuU3RPItU"
      },
      "outputs": [],
      "source": [
        "import pandas as pd\n",
        "df = pd.DataFrame({\n",
        "  'first_name': ['Sarah', 'John', 'Kyle'],\n",
        "  'last_name': ['Connor', 'Connor', 'Reese'],\n",
        "})\n",
        "\n",
        "foo = 'Connor'\n",
        "df.query('last_name == @foo')"
      ]
    },
    {
      "cell_type": "markdown",
      "metadata": {
        "id": "bHFe_2xK3WI7"
      },
      "source": [
        "## Pandas DataFrame: Query using variable value as a column name"
      ]
    },
    {
      "cell_type": "markdown",
      "metadata": {
        "id": "q8PqFCcW4y6z"
      },
      "source": [
        "Evaluate a variable, to use its value as the name of a column in a query.\n",
        "\n",
        "E.g. Query for rows where `John` is the value in the column named `first_name`."
      ]
    },
    {
      "cell_type": "code",
      "execution_count": null,
      "metadata": {
        "id": "PbXpFR93PRtc"
      },
      "outputs": [],
      "source": [
        "import pandas as pd\n",
        "df = pd.DataFrame(data={\n",
        "  'first_name': ['Sarah', 'John', 'Kyle'],\n",
        "  'last_name': ['Connor', 'Connor', 'Reese'],\n",
        "})\n",
        "\n",
        "column_name = 'first_name'\n",
        "df.query(f\"`{column_name}` == 'John'\")"
      ]
    },
    {
      "cell_type": "markdown",
      "metadata": {
        "id": "BIgQb_ICbNu9"
      },
      "source": [
        "## Pandas DataFrame: Query by Timestamp above a value"
      ]
    },
    {
      "cell_type": "code",
      "execution_count": null,
      "metadata": {
        "id": "0PAn5prJbOXk"
      },
      "outputs": [],
      "source": [
        "import pandas as pd\n",
        "df = pd.DataFrame({\n",
        "  'time': ['2022-09-14 00:52:00-07:00', '2022-09-14 00:52:30-07:00',\n",
        "           '2022-09-14 01:52:30-07:00'],\n",
        "  'letter': ['A', 'B', 'C'],\n",
        "})\n",
        "df['time'] = pd.to_datetime(df.time)\n",
        "\n",
        "df.query('time >= \"2022-09-14 00:52:30-07:00\"')"
      ]
    },
    {
      "cell_type": "markdown",
      "metadata": {
        "id": "MEFOgYwT0jiY"
      },
      "source": [
        "## Pandas DataFrame: Query for Timestamp between two values"
      ]
    },
    {
      "cell_type": "code",
      "execution_count": null,
      "metadata": {
        "id": "gznADrAnbXGY"
      },
      "outputs": [],
      "source": [
        "import pandas as pd\n",
        "df = pd.DataFrame({\n",
        "  'time': ['2022-09-14 00:52:00-07:00', '2022-09-14 00:52:30-07:00',\n",
        "           '2022-09-14 01:52:30-07:00'],\n",
        "  'letter': ['A', 'B', 'C'],\n",
        "})\n",
        "df['time'] = pd.to_datetime(df.time)\n",
        "\n",
        "begin_ts = '2022-09-14 00:52:00-07:00'\n",
        "end_ts = '2022-09-14 00:54:00-07:00'\n",
        "\n",
        "df.query('@begin_ts <= time < @end_ts')"
      ]
    },
    {
      "cell_type": "markdown",
      "metadata": {
        "id": "4zoeyh7ndKKN"
      },
      "source": [
        "## Pandas DataFrame: Filter by Timestamp in DatetimeIndex using `.loc[]`"
      ]
    },
    {
      "cell_type": "code",
      "execution_count": null,
      "metadata": {
        "id": "1B_YCZUrbaFG"
      },
      "outputs": [],
      "source": [
        "import pandas as pd\n",
        "df = pd.DataFrame({\n",
        "  'time': ['2022-09-14 00:52:00-07:00', '2022-09-14 00:52:30-07:00',\n",
        "           '2022-09-14 01:52:30-07:00'],\n",
        "  'letter': ['A', 'B', 'C'],\n",
        "})\n",
        "df['time'] = pd.to_datetime(df.time)\n",
        "df.set_index('time', inplace=True)\n",
        "\n",
        "df.loc['2022-09-14':'2022-09-14 00:53']"
      ]
    },
    {
      "cell_type": "markdown",
      "metadata": {
        "id": "fDscd8p3hOqz"
      },
      "source": [
        "## Pandas DataFrame: Filter by Timestamp using TimeDelta string"
      ]
    },
    {
      "cell_type": "code",
      "execution_count": null,
      "metadata": {
        "id": "YoRYanJrVV5g"
      },
      "outputs": [],
      "source": [
        "import pandas as pd\n",
        "df = pd.DataFrame({\n",
        "  'time': ['2022-09-14 00:52:00-07:00', '2022-09-14 00:52:30-07:00',\n",
        "           '2022-09-14 01:52:30-07:00'],\n",
        "  'letter': ['A', 'B', 'C'],\n",
        "})\n",
        "df['time'] = pd.to_datetime(df.time)\n",
        "\n",
        "def rows_in_time_range(df, time_column, start_ts_str, timedelta_str):\n",
        "  # Return rows from df, where start_ts < time_column <= start_ts + delta.\n",
        "  # start_ts_str can be a date '2022-09-01' or a time '2022-09-14 00:52:00-07:00'\n",
        "  # timedelta_str examples: '2 minutes'  '2 days 2 hours 15 minutes 30 seconds'\n",
        "  start_ts = pd.Timestamp(start_ts_str).tz_localize('US/Pacific')\n",
        "  end_ts = start_ts + pd.to_timedelta(timedelta_str)\n",
        "  return df.query(\"@start_ts <= {0} < @end_ts\".format(time_column))\n",
        "\n",
        "rows_in_time_range(df, 'time', '2022-09-14 00:00', '52 minutes 31 seconds')"
      ]
    },
    {
      "cell_type": "markdown",
      "metadata": {
        "id": "DyrfPExcbjFY"
      },
      "source": [
        "## Pandas: Describe Timestamp values in a column"
      ]
    },
    {
      "cell_type": "code",
      "execution_count": null,
      "metadata": {
        "id": "T1-ozcpHbitV"
      },
      "outputs": [],
      "source": [
        "import pandas as pd\n",
        "df = pd.DataFrame({\n",
        "  'time': ['2022-09-14 00:52:00-07:00', '2022-09-14 00:52:30-07:00',\n",
        "           '2022-09-14 01:52:30-07:00'],\n",
        "  'letter': ['A', 'B', 'C'],\n",
        "})\n",
        "df['time'] = pd.to_datetime(df.time)\n",
        "\n",
        "df['time'].describe(datetime_is_numeric=True)"
      ]
    },
    {
      "cell_type": "markdown",
      "metadata": {
        "id": "mrWXmdmOcA6F"
      },
      "source": [
        "## Pandas DataFrame: Explode a column containing dictionary values into multiple columns"
      ]
    },
    {
      "cell_type": "markdown",
      "metadata": {
        "id": "fcbWC_o5Bq6J"
      },
      "source": [
        "This code transforms or splits the dictionary column into many columns.\n",
        "\n",
        "E.g. The output DataFrame of this cell will have columns named [`date, letter, fruit, weather`]."
      ]
    },
    {
      "cell_type": "code",
      "execution_count": null,
      "metadata": {
        "id": "2225FVJacBYs"
      },
      "outputs": [],
      "source": [
        "import pandas as pd\n",
        "df = pd.DataFrame({\n",
        "  'date': ['2022-09-14', '2022-09-15', '2022-09-16'],\n",
        "  'letter': ['A', 'B', 'C'],\n",
        "  'dict' : [{ 'fruit': 'apple', 'weather': 'aces'},\n",
        "            { 'fruit': 'banana', 'weather': 'bad'},\n",
        "            { 'fruit': 'cantaloupe', 'weather': 'cloudy'}],\n",
        "})\n",
        "\n",
        "pd.concat([df.drop(['dict'], axis=1), df['dict'].apply(pd.Series)], axis=1)"
      ]
    },
    {
      "cell_type": "markdown",
      "metadata": {
        "id": "SIjbg2DUki9C"
      },
      "source": [
        "## Pandas DataFrame: Extract values using regexp (regular expression)"
      ]
    },
    {
      "cell_type": "code",
      "execution_count": null,
      "metadata": {
        "id": "Y7v3bFUmkidS"
      },
      "outputs": [],
      "source": [
        "import pandas as pd\n",
        "df = pd.DataFrame({\n",
        "  'request': ['GET /index.html?baz=3', 'GET /foo.html?bar=1'],\n",
        "})\n",
        "\n",
        "df['request'].str.extract('GET /([^?]+)\\?', expand=True)"
      ]
    },
    {
      "cell_type": "markdown",
      "metadata": {
        "id": "_8mikXMvjahc"
      },
      "source": [
        "## Pandas Timestamp: Convert string to Timestamp, using date only"
      ]
    },
    {
      "cell_type": "markdown",
      "metadata": {
        "id": "smKFFysmlQOx"
      },
      "source": [
        "I.e. Midnight on the given date."
      ]
    },
    {
      "cell_type": "code",
      "execution_count": null,
      "metadata": {
        "id": "ZPum-jBojGeF"
      },
      "outputs": [],
      "source": [
        "import pandas as pd\n",
        "\n",
        "pd.Timestamp('9/27/22').tz_localize('US/Pacific')"
      ]
    },
    {
      "cell_type": "markdown",
      "metadata": {
        "id": "QlE2B9gYlUto"
      },
      "source": [
        "## Pandas Timestamp: Convert string to Timestamp"
      ]
    },
    {
      "cell_type": "code",
      "execution_count": null,
      "metadata": {
        "id": "qZeu0qa3jpcu"
      },
      "outputs": [],
      "source": [
        "import pandas as pd\n",
        "\n",
        "pd.Timestamp('9/27/22 06:59').tz_localize('US/Pacific')"
      ]
    },
    {
      "cell_type": "markdown",
      "metadata": {
        "id": "M-p8mTaHlE3I"
      },
      "source": [
        "## Pandas: Create a TimeDelta using `unit`"
      ]
    },
    {
      "cell_type": "markdown",
      "metadata": {
        "id": "1iYqXT8qmEZn"
      },
      "source": [
        "From an integer.\n",
        "`unit` is a string, defaulting to `ns`. Possible values:\n"
      ]
    },
    {
      "cell_type": "code",
      "execution_count": null,
      "metadata": {
        "id": "zNo40II-lD2q"
      },
      "outputs": [],
      "source": [
        "import pandas as pd\n",
        "\n",
        "pd.to_timedelta(1, unit='h')"
      ]
    },
    {
      "cell_type": "markdown",
      "metadata": {
        "id": "FMQyJtg5mmCx"
      },
      "source": [
        "## Pandas: Create a TimeDelta using available kwargs"
      ]
    },
    {
      "cell_type": "markdown",
      "metadata": {
        "id": "Wh4w12fS4v0J"
      },
      "source": [
        "Example keyworded args: {days, seconds, microseconds, milliseconds, minutes, hours, weeks}"
      ]
    },
    {
      "cell_type": "code",
      "execution_count": null,
      "metadata": {
        "id": "giw4M16gmlkK"
      },
      "outputs": [],
      "source": [
        "import pandas as pd\n",
        "\n",
        "pd.Timedelta(days=2)"
      ]
    },
    {
      "cell_type": "markdown",
      "metadata": {
        "id": "xXR7N2sCmA-_"
      },
      "source": [
        "## Pandas: Create a TimeDelta from a string"
      ]
    },
    {
      "cell_type": "code",
      "execution_count": null,
      "metadata": {
        "id": "_SjGanWwl0XG"
      },
      "outputs": [],
      "source": [
        "import pandas as pd\n",
        "\n",
        "pd.Timedelta('2 days 2 hours 15 minutes 30 seconds')"
      ]
    },
    {
      "cell_type": "markdown",
      "metadata": {
        "id": "fnwXL2jnEO0V"
      },
      "source": [
        "## Pandas: Replace NaN values in a Column"
      ]
    },
    {
      "cell_type": "code",
      "execution_count": null,
      "metadata": {
        "id": "EeKjQOEJEOVh"
      },
      "outputs": [],
      "source": [
        "import numpy as np\n",
        "import pandas as pd\n",
        "df = pd.DataFrame({\n",
        "  'dogs': [5, 10, np.nan, 7],\n",
        "})\n",
        "\n",
        "df['dogs'].replace(np.nan, 0, regex=True)"
      ]
    },
    {
      "cell_type": "markdown",
      "metadata": {
        "id": "OCuIYAhHJimy"
      },
      "source": [
        "## Pandas DataFrame: Drop duplicate rows"
      ]
    },
    {
      "cell_type": "code",
      "execution_count": null,
      "metadata": {
        "id": "NjBDuqQSEgml"
      },
      "outputs": [],
      "source": [
        "import pandas as pd\n",
        "df = pd.DataFrame({\n",
        "  'first_name': ['Sarah', 'John', 'Kyle', 'Joe'],\n",
        "  'last_name': ['Connor', 'Connor', 'Reese', 'Bonnot'],\n",
        "})\n",
        "df.set_index('last_name', inplace=True)\n",
        "\n",
        "df.loc[~df.index.duplicated(), :]"
      ]
    },
    {
      "cell_type": "markdown",
      "metadata": {
        "id": "dy-BKNgWUwnQ"
      },
      "source": [
        "## Pandas DataFrame: Ignore one Column"
      ]
    },
    {
      "cell_type": "code",
      "execution_count": null,
      "metadata": {
        "id": "y00BW8DOUxGs"
      },
      "outputs": [],
      "source": [
        "import pandas as pd\n",
        "df = pd.DataFrame({\n",
        "  'first_name': ['Sarah', 'John', 'Kyle', 'Joe'],\n",
        "  'last_name': ['Connor', 'Connor', 'Reese', 'Bonnot'],\n",
        "})\n",
        "\n",
        "df.loc[:, df.columns!='last_name']"
      ]
    },
    {
      "cell_type": "markdown",
      "metadata": {
        "id": "5Vp6gD9OVo1Z"
      },
      "source": [
        "## Pandas DataFrame: Intersect Indexes"
      ]
    },
    {
      "cell_type": "code",
      "execution_count": null,
      "metadata": {
        "id": "Y3kdge_GVxO3"
      },
      "outputs": [],
      "source": [
        "import pandas as pd\n",
        "terminator_df = pd.DataFrame({\n",
        "  'first_name': ['Sarah', 'John', 'Kyle'],\n",
        "  'last_name': ['Connor', 'Connor', 'Reese'],\n",
        "})\n",
        "terminator_df.set_index('first_name', inplace=True)\n",
        "\n",
        "buckaroo_df = pd.DataFrame({\n",
        "  'first_name': ['John', 'John', 'Buckaroo'],\n",
        "  'last_name': ['Parker', 'Whorfin', 'Banzai'],\n",
        "})\n",
        "buckaroo_df.set_index('first_name', inplace=True)\n",
        "\n",
        "terminator_df.index.intersection(buckaroo_df.index).shape"
      ]
    },
    {
      "cell_type": "markdown",
      "metadata": {
        "id": "VVh1EtmVV0Qb"
      },
      "source": [
        "## Pandas DataFrame: Select all rows from A that are not in B, using the index"
      ]
    },
    {
      "cell_type": "code",
      "execution_count": null,
      "metadata": {
        "id": "OUazjSSUV_45"
      },
      "outputs": [],
      "source": [
        "import pandas as pd\n",
        "terminator_df = pd.DataFrame({\n",
        "  'first_name': ['Sarah', 'John', 'Kyle'],\n",
        "  'last_name': ['Connor', 'Connor', 'Reese'],\n",
        "})\n",
        "terminator_df.set_index('first_name', inplace=True)\n",
        "\n",
        "buckaroo_df = pd.DataFrame({\n",
        "  'first_name': ['John', 'John', 'Buckaroo'],\n",
        "  'last_name': ['Parker', 'Whorfin', 'Banzai'],\n",
        "})\n",
        "buckaroo_df.set_index('first_name', inplace=True)\n",
        "\n",
        "terminator_df[~terminator_df.index.isin(buckaroo_df.index)]"
      ]
    },
    {
      "cell_type": "markdown",
      "metadata": {
        "id": "MVTdtZJAWItJ"
      },
      "source": [
        "## Pandas DataFrame: Select rows by an attribute of a column value"
      ]
    },
    {
      "cell_type": "markdown",
      "metadata": {
        "id": "a2XfO20JWYy7"
      },
      "source": [
        "Use the Series `map()` method.\n",
        "E.g. To filter by the length of a column values:"
      ]
    },
    {
      "cell_type": "code",
      "execution_count": null,
      "metadata": {
        "id": "rmuXV7bzVnU-"
      },
      "outputs": [],
      "source": [
        "import pandas as pd\n",
        "df = pd.DataFrame({\n",
        "  'first_name': ['Sarah', 'John', 'Kyle'],\n",
        "  'last_name': ['Connor', 'Connor', 'Reese'],\n",
        "})\n",
        "\n",
        "df[df['last_name'].map(len) == 5]"
      ]
    },
    {
      "cell_type": "markdown",
      "metadata": {
        "id": "AMQ60B9Gghjh"
      },
      "source": [
        "## Pandas DataFrame: Sort the count of rows grouped on columns"
      ]
    },
    {
      "cell_type": "code",
      "execution_count": null,
      "metadata": {
        "id": "j4nwrfh-gVxX"
      },
      "outputs": [],
      "source": [
        "import pandas as pd\n",
        "df = pd.DataFrame({\n",
        "  'first_name': ['Sarah', 'John', 'Kyle'],\n",
        "  'last_name': ['Connor', 'Connor', 'Reese'],\n",
        "})\n",
        "\n",
        "df.groupby(['last_name']).size().sort_values(ascending=False)"
      ]
    },
    {
      "cell_type": "markdown",
      "metadata": {
        "id": "IRl1d3PY0ulI"
      },
      "source": [
        "## Pandas DataFrame: Reshape to have 1 row per value in a list column"
      ]
    },
    {
      "cell_type": "markdown",
      "metadata": {
        "id": "I2Pberyl1KTk"
      },
      "source": [
        "Creates a new DataFrame that is a transformed version of the input. E.g.\n",
        "*   Input: df with a column named `msg_ids` that is a list of values (i.e. many per row, at least in some rows).\n",
        "*   Output: new_df which has 1 row per unique value found in any of the original `msg_ids` lists, with that value in a new column named `msg_id`.\n"
      ]
    },
    {
      "cell_type": "code",
      "execution_count": null,
      "metadata": {
        "id": "AvPNQJFn090X"
      },
      "outputs": [],
      "source": [
        "import pandas as pd\n",
        "df = pd.DataFrame({\n",
        "  'date': ['9/1/22', '9/2/22', '9/3/22'],\n",
        "  'action': ['Add', 'Update', 'Delete'],\n",
        "  'msg_ids': [[1, 2, 3], [], [2, 3]],\n",
        "})\n",
        "df.set_index('date', inplace=True)\n",
        "\n",
        "\n",
        "temp_series = df['msg_ids'].apply(pd.Series, 1).stack()\n",
        "temp_series.index = temp_series.index.droplevel(-1)\n",
        "temp_series.name = 'msg_id'\n",
        "new_df = temp_series.to_frame()\n",
        "new_df.set_index('msg_id', inplace=True)\n",
        "new_df.loc[~new_df.index.duplicated(), :] # Drop duplicates."
      ]
    },
    {
      "cell_type": "markdown",
      "metadata": {
        "id": "I14ORpEPP4Wr"
      },
      "source": [
        "## Pandas: DataFrames: Group Timeseries by Frequency"
      ]
    },
    {
      "cell_type": "markdown",
      "metadata": {
        "id": "yycF10l6Qe8Y"
      },
      "source": [
        "You can group timestamped data into intervals of arbitrary duration using a Grouper object to specify groupby instructions.  The `freq` parameter is a string that may contain an integer followed by an [offset alias](https://pandas.pydata.org/pandas-docs/stable/user_guide/timeseries.html#offset-aliases).  E.g. To see output for 2 minute long intervals:"
      ]
    },
    {
      "cell_type": "code",
      "execution_count": null,
      "metadata": {
        "id": "9Eh3efwfQeFr"
      },
      "outputs": [],
      "source": [
        "import pandas as pd\n",
        "df = pd.DataFrame({\n",
        "  'time': ['2022-09-01 00:00:01-07:00', '2022-09-01 00:00:02-07:00',\n",
        "           '2022-09-01 00:01:00-07:00', '2022-09-01 00:02:00-07:00',\n",
        "           '2022-09-01 00:03:00-07:00', '2022-09-01 00:04:00-07:00',\n",
        "           '2022-09-01 00:05:00-07:00', '2022-09-01 00:07:00-07:00'],\n",
        "  'requests': [1, 1, 1, 1, 1, 1, 1, 1],\n",
        "})\n",
        "df['time'] = pd.to_datetime(df.time)\n",
        "\n",
        "df.groupby(pd.Grouper(key='time', freq='2min')).sum()"
      ]
    },
    {
      "cell_type": "code",
      "source": [
        "import webbrowser"
      ],
      "metadata": {
        "id": "QsEPyZ1Jle10"
      },
      "execution_count": null,
      "outputs": []
    },
    {
      "cell_type": "code",
      "source": [
        "\n",
        "\n",
        "def find_city_on_google_earth(city_name):\n",
        "  google_earth_url =f'https://earth.google.com/web/search/{city_name}'\n",
        "\n",
        "  webbrowser.open(google_earth_url)\n",
        "\n",
        "  find_city_on_google_earth(\"New york City\")"
      ],
      "metadata": {
        "id": "acJrGv6kMVpB"
      },
      "execution_count": null,
      "outputs": []
    },
    {
      "cell_type": "code",
      "source": [
        "import numpy as np\n",
        "import matplotlib.pyplot as plt\n",
        "\n",
        "# discretizando as duas variáveis de ângulo\n",
        "angle = np.linspace(0, 2 * np.pi, 32)\n",
        "theta, phi = np.meshgrid(angle, angle)\n",
        "\n",
        "# pegando valores comuns para os raios interno e exteno\n",
        "r, R = 0.3, 1\n",
        "\n",
        "# parametrização\n",
        "x = (R + r * np.cos(phi)) * np.cos(theta)\n",
        "y = (R + r * np.cos(phi)) * np.sin(theta)\n",
        "z = r * np.sin(phi)\n",
        "\n",
        "# criando o ambiente 3d\n",
        "fig = plt.figure()\n",
        "ax = plt.axes(projection='3d')\n",
        "\n",
        "# limitando os eixos\n",
        "ax.set_xlim3d(-1, 1)\n",
        "ax.set_ylim3d(-1, 1)\n",
        "ax.set_zlim3d(-1, 1)\n",
        "\n",
        "# exibindo a figura\n",
        "ax.plot_surface(x, y, z, rstride=1, cstride=1)\n",
        "plt.show()\n",
        "\n"
      ],
      "metadata": {
        "id": "X1Izcs8bCAFv"
      },
      "execution_count": null,
      "outputs": []
    },
    {
      "cell_type": "code",
      "source": [
        "import numpy as np\n",
        "import matplotlib.pyplot as plt\n",
        "\n",
        "# definindo a função\n",
        "def f(x, y):\n",
        "    return np.sqrt(9-x**2+y**2)\n",
        "\n",
        "# discretizando x e y\n",
        "x = np.linspace(-3, 3, 50)\n",
        "y = np.linspace(-3, 3, 50)\n",
        "\n",
        "# artifício do produto cartesiano\n",
        "x, y = np.meshgrid(x, y)\n",
        "\n",
        "# define z como z=f(x,y)\n",
        "z = f(x, y)\n",
        "\n",
        "# indica que iremos fazer um gráfico 3d e nomeia os eixos\n",
        "ax = plt.axes(projection='3d')\n",
        "ax.set_xlabel('x')\n",
        "ax.set_ylabel('y')\n",
        "ax.set_zlabel('z')\n",
        "\n",
        "# finalmente, adiciona a função (no caso, estamos plotando\n",
        "# em versão wireframe, ou seja, você vai ver a malha sobre a\n",
        "# superfície.\n",
        "\n",
        "ax.plot_wireframe(x, y, z)"
      ],
      "metadata": {
        "id": "Ffb5bSQlCVEl"
      },
      "execution_count": null,
      "outputs": []
    },
    {
      "cell_type": "code",
      "source": [
        "import numpy as np\n",
        "import matplotlib.cm as cm\n",
        "import matplotlib.pyplot as plt\n",
        "\n",
        "# o comando abaixo é muito parecido com o linspace que usamos antes.\n",
        "# a diferença é que aqui, ao invés de definirmos o número de pontos\n",
        "# que iremos usar para plotar, vamos definir ponto inicial, ponto\n",
        "# final e o incremento, neste caso delta=0.025.\n",
        "# é só uma outra forma de fazer a discretização.\n",
        "delta = 0.025\n",
        "x = np.arange(-3.0, 3.0, delta)\n",
        "y = np.arange(-2.0, 2.0, delta)\n",
        "\n",
        "\n",
        "# aqui o primeiro truque: transformamos os dois \"intervalos\" de x e y\n",
        "# numa malha bidimensional, fazendo uma espécie de produto cartesiano\n",
        "# dos pontos, e renomeamos a primeira coordenada desses pontos como x\n",
        "# e a segunda como y. esse é só um artifício técnico.\n",
        "x, y = np.meshgrid(x, y)\n",
        "\n",
        "# aqui definimos a funcao/equacao da qual vamos plotar as curvas de nivel.\n",
        "# note que ela usa as variáveis com letras maiúsculas, pois o que vamos\n",
        "# armazenar no vetor Z é o valor dessa funcao em cada um dos pontos da\n",
        "# malha criada.\n",
        "z = x**2-2*y**2-1\n",
        "\n",
        "fig, ax = plt.subplots()\n",
        "\n",
        "# a sintaxe do contor é intervalo X, intervalo Y, funcao e quantidade\n",
        "# de contornos. abaixo, plotamos 20 curvas de nível.\n",
        "contornos = ax.contour(x, y, z, 20)\n",
        "\n",
        "ax.clabel(contornos, inline=True, fontsize=10)\n",
        "ax.set_title('Curvas de nível')\n",
        "\n",
        "plt.contour(x, y, z)\n",
        "\n"
      ],
      "metadata": {
        "id": "jyX3LPXzCabb"
      },
      "execution_count": null,
      "outputs": []
    },
    {
      "cell_type": "code",
      "source": [
        "import math\n",
        "import numpy as np\n",
        "\n",
        "from matplotlib import pyplot as plt\n",
        "\n",
        "t = np.linspace(0,39 * math.pi/2, 1000)\n",
        "x = t * np.cos(t) ** 3\n",
        "y = 9 * t * np.sqrt(abs(np.cos(t))) + t * np.sin(0.2 * t) * np.cos(4 * t)\n",
        "\n",
        "plt.plot(x, y, c = \"green\")\n",
        "plt.show()"
      ],
      "metadata": {
        "id": "bhvXrSqUCopx"
      },
      "execution_count": null,
      "outputs": []
    },
    {
      "cell_type": "code",
      "source": [
        "import time\n",
        "from plyer import notification\n",
        "\n",
        "if _name_== \"_main_\":\n",
        "  while True:\n",
        "    notification.notify(\n",
        "      title=\"Alert!!\",\n",
        "      message= \"Vamos la\",\n",
        "      timeout=10\n",
        "  )\n",
        "  time.sleep(3600)"
      ],
      "metadata": {
        "id": "UbIwLGnOGxq5"
      },
      "execution_count": null,
      "outputs": []
    },
    {
      "cell_type": "code",
      "source": [
        "pip install yt-dlp"
      ],
      "metadata": {
        "id": "wrfnfRQQN2z4"
      },
      "execution_count": null,
      "outputs": []
    },
    {
      "cell_type": "code",
      "source": [
        "import yt_dlp\n",
        "\n",
        "url= input (\"Deixe o link do youtube: \")\n",
        "\n",
        "ydl_opts={}\n",
        "\n",
        "with yt_dlp.YoutubeDL(ydl_opts)as ydl:\n",
        "  ydl.download([url])\n",
        "  print(\"Video baixado com suscesso!!!\")"
      ],
      "metadata": {
        "id": "YOfwEUV0L5O5"
      },
      "execution_count": null,
      "outputs": []
    },
    {
      "cell_type": "code",
      "source": [
        "nome  = input(\"Digite seu nome: \")\n",
        "print(\"Ola, \" +nome+ \" Bem vindo!\")\n"
      ],
      "metadata": {
        "id": "GSpiHPXX7pmn"
      },
      "execution_count": null,
      "outputs": []
    },
    {
      "cell_type": "code",
      "source": [
        "from geopy.geocoders import ArcGIS\n",
        "geolocator = ArcGIS()\n",
        "location = geolocator.geocode(\"Samambaia Sul,Brasilia/DF\")\n",
        "\n",
        "print (\"Latitude: \", location.latitude)\n",
        "print (\"Longitude: \", location.longitude)\n"
      ],
      "metadata": {
        "id": "tiL4TcRDeh_1"
      },
      "execution_count": null,
      "outputs": []
    }
  ],
  "metadata": {
    "colab": {
      "private_outputs": true,
      "provenance": [],
      "include_colab_link": true
    },
    "kernelspec": {
      "display_name": "Python 3",
      "name": "python3"
    },
    "language_info": {
      "name": "python"
    }
  },
  "nbformat": 4,
  "nbformat_minor": 0
}